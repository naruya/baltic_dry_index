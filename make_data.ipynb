{
 "cells": [
  {
   "cell_type": "code",
   "execution_count": 1,
   "metadata": {},
   "outputs": [
    {
     "data": {
      "text/plain": [
       "['oil_Jan-01-2016_Aug-17-2018.csv',\n",
       " 'nikkei_Jan-01-2016_Aug-17-2018.csv',\n",
       " 'ffa_Jan-01-2016_Aug-17-2018.csv',\n",
       " 'bci_Jan-01-2016_Aug-17-2018.csv',\n",
       " 'korea_Jan-01-2016_Aug-17-2018.csv',\n",
       " 'pick_Jan-01-2016_Aug-17-2018.csv',\n",
       " 'iyt_Jan-01-2016_Aug-17-2018.csv',\n",
       " 'usdollar_Jan-01-2016_Aug-17-2018.csv',\n",
       " 'coal_Jan-01-2016_Aug-17-2018.csv',\n",
       " 'sp500_Jan-01-2016_Aug-17-2018.csv',\n",
       " 'shanghai_Jan-01-2016_Aug-17-2018.csv',\n",
       " 'germany_Jan-01-2016_Aug-17-2018.csv',\n",
       " 'ironore_Jan-01-2016_Aug-17-2018.csv',\n",
       " 'steelstock_Jan-01-2016_Aug-17-2018.csv']"
      ]
     },
     "execution_count": 1,
     "metadata": {},
     "output_type": "execute_result"
    }
   ],
   "source": [
    "import pandas as pd\n",
    "pd.set_option('display.max_rows', 4)\n",
    "import numpy as np\n",
    "import os\n",
    "import pickle\n",
    "\n",
    "path = 'data/statistics/'\n",
    "files = os.listdir(path)\n",
    "files"
   ]
  },
  {
   "cell_type": "code",
   "execution_count": 2,
   "metadata": {
    "scrolled": false
   },
   "outputs": [
    {
     "name": "stdout",
     "output_type": "stream",
     "text": [
      "x: data/statistics/oil_Jan-01-2016_Aug-17-2018.csv\n",
      "x: data/statistics/nikkei_Jan-01-2016_Aug-17-2018.csv\n",
      "x: data/statistics/ffa_Jan-01-2016_Aug-17-2018.csv\n",
      "[W] please check data type. df.iloc[:,1].dtype == int64\n",
      "y: data/statistics/bci_Jan-01-2016_Aug-17-2018.csv\n",
      "[W] please check data type. df.iloc[:,1].dtype == object\n",
      "x: data/statistics/korea_Jan-01-2016_Aug-17-2018.csv\n",
      "x: data/statistics/pick_Jan-01-2016_Aug-17-2018.csv\n",
      "x: data/statistics/iyt_Jan-01-2016_Aug-17-2018.csv\n",
      "x: data/statistics/usdollar_Jan-01-2016_Aug-17-2018.csv\n",
      "x: data/statistics/coal_Jan-01-2016_Aug-17-2018.csv\n",
      "x: data/statistics/sp500_Jan-01-2016_Aug-17-2018.csv\n",
      "x: data/statistics/shanghai_Jan-01-2016_Aug-17-2018.csv\n",
      "x: data/statistics/germany_Jan-01-2016_Aug-17-2018.csv\n",
      "x: data/statistics/ironore_Jan-01-2016_Aug-17-2018.csv\n",
      "x: data/statistics/steelstock_Jan-01-2016_Aug-17-2018.csv\n",
      "\n",
      "train: Jan 01, 2016 ~ May 10, 2018\n",
      "train: May 11, 2018 ~ Aug 17, 2018\n"
     ]
    },
    {
     "data": {
      "text/html": [
       "<div>\n",
       "<style scoped>\n",
       "    .dataframe tbody tr th:only-of-type {\n",
       "        vertical-align: middle;\n",
       "    }\n",
       "\n",
       "    .dataframe tbody tr th {\n",
       "        vertical-align: top;\n",
       "    }\n",
       "\n",
       "    .dataframe thead th {\n",
       "        text-align: right;\n",
       "    }\n",
       "</style>\n",
       "<table border=\"1\" class=\"dataframe\">\n",
       "  <thead>\n",
       "    <tr style=\"text-align: right;\">\n",
       "      <th></th>\n",
       "      <th>date</th>\n",
       "      <th>bci</th>\n",
       "    </tr>\n",
       "  </thead>\n",
       "  <tbody>\n",
       "    <tr>\n",
       "      <th>0</th>\n",
       "      <td>Jan 01, 2016</td>\n",
       "      <td>472.0</td>\n",
       "    </tr>\n",
       "    <tr>\n",
       "      <th>1</th>\n",
       "      <td>Jan 02, 2016</td>\n",
       "      <td>472.0</td>\n",
       "    </tr>\n",
       "    <tr>\n",
       "      <th>...</th>\n",
       "      <td>...</td>\n",
       "      <td>...</td>\n",
       "    </tr>\n",
       "    <tr>\n",
       "      <th>958</th>\n",
       "      <td>Aug 16, 2018</td>\n",
       "      <td>3,476.00</td>\n",
       "    </tr>\n",
       "    <tr>\n",
       "      <th>959</th>\n",
       "      <td>Aug 17, 2018</td>\n",
       "      <td>3,454.00</td>\n",
       "    </tr>\n",
       "  </tbody>\n",
       "</table>\n",
       "<p>960 rows × 2 columns</p>\n",
       "</div>"
      ],
      "text/plain": [
       "             date       bci\n",
       "0    Jan 01, 2016     472.0\n",
       "1    Jan 02, 2016     472.0\n",
       "..            ...       ...\n",
       "958  Aug 16, 2018  3,476.00\n",
       "959  Aug 17, 2018  3,454.00\n",
       "\n",
       "[960 rows x 2 columns]"
      ]
     },
     "execution_count": 2,
     "metadata": {},
     "output_type": "execute_result"
    }
   ],
   "source": [
    "x_df = []\n",
    "y_df = None\n",
    "\n",
    "for file in files:\n",
    "    df = pd.read_csv(path+file)\n",
    "#     df = pd.read_csv(path+file, dtype={'date':str, 'price':float})\n",
    "    df.columns = ['date', file.split(\"_\")[0]]\n",
    "    if not file=='bci_Jan-01-2016_Aug-17-2018.csv':\n",
    "        print('x:', path+file)\n",
    "        x_df.append(df)\n",
    "    else:\n",
    "        print('y:', path+file)\n",
    "        y_df = df\n",
    "    if not df.iloc[:,1].dtype == 'float64':\n",
    "        print(\"[W] please check data type. df.iloc[:,1].dtype ==\", df.iloc[:,1].dtype)\n",
    "\n",
    "print(\"\\ntrain:\", y_df.iloc[0]['date'], \"~\", y_df.iloc[860]['date'])\n",
    "print(\"train:\", y_df.iloc[861]['date'], \"~\", y_df.iloc[959]['date'])\n",
    "y_df"
   ]
  },
  {
   "cell_type": "code",
   "execution_count": 3,
   "metadata": {},
   "outputs": [
    {
     "name": "stdout",
     "output_type": "stream",
     "text": [
      "before: object\n",
      "after : float64\n"
     ]
    }
   ],
   "source": [
    "print(\"before:\", y_df.iloc[:,1].dtype)\n",
    "y_df.iloc[:,1] = y_df.iloc[:,1].map(lambda x: float(str(x).replace(',', '')))\n",
    "print(\"after :\", y_df.iloc[:,1].dtype)"
   ]
  },
  {
   "cell_type": "code",
   "execution_count": 4,
   "metadata": {},
   "outputs": [
    {
     "data": {
      "text/html": [
       "<div>\n",
       "<style scoped>\n",
       "    .dataframe tbody tr th:only-of-type {\n",
       "        vertical-align: middle;\n",
       "    }\n",
       "\n",
       "    .dataframe tbody tr th {\n",
       "        vertical-align: top;\n",
       "    }\n",
       "\n",
       "    .dataframe thead th {\n",
       "        text-align: right;\n",
       "    }\n",
       "</style>\n",
       "<table border=\"1\" class=\"dataframe\">\n",
       "  <thead>\n",
       "    <tr style=\"text-align: right;\">\n",
       "      <th></th>\n",
       "      <th>oil</th>\n",
       "      <th>nikkei</th>\n",
       "      <th>ffa</th>\n",
       "      <th>korea</th>\n",
       "      <th>pick</th>\n",
       "      <th>iyt</th>\n",
       "      <th>usdollar</th>\n",
       "      <th>coal</th>\n",
       "      <th>sp500</th>\n",
       "      <th>shanghai</th>\n",
       "      <th>germany</th>\n",
       "      <th>ironore</th>\n",
       "      <th>steelstock</th>\n",
       "    </tr>\n",
       "  </thead>\n",
       "  <tbody>\n",
       "    <tr>\n",
       "      <th>0</th>\n",
       "      <td>36.76</td>\n",
       "      <td>18818.58008</td>\n",
       "      <td>4150</td>\n",
       "      <td>1911.930054</td>\n",
       "      <td>16.52</td>\n",
       "      <td>132.320007</td>\n",
       "      <td>98.97</td>\n",
       "      <td>38.05</td>\n",
       "      <td>2038.199951</td>\n",
       "      <td>3296.26</td>\n",
       "      <td>10485.80957</td>\n",
       "      <td>41.95</td>\n",
       "      <td>206.66</td>\n",
       "    </tr>\n",
       "    <tr>\n",
       "      <th>1</th>\n",
       "      <td>36.76</td>\n",
       "      <td>18818.58008</td>\n",
       "      <td>4150</td>\n",
       "      <td>1911.930054</td>\n",
       "      <td>16.52</td>\n",
       "      <td>132.320007</td>\n",
       "      <td>98.97</td>\n",
       "      <td>38.05</td>\n",
       "      <td>2038.199951</td>\n",
       "      <td>3296.26</td>\n",
       "      <td>10485.80957</td>\n",
       "      <td>41.95</td>\n",
       "      <td>206.66</td>\n",
       "    </tr>\n",
       "    <tr>\n",
       "      <th>...</th>\n",
       "      <td>...</td>\n",
       "      <td>...</td>\n",
       "      <td>...</td>\n",
       "      <td>...</td>\n",
       "      <td>...</td>\n",
       "      <td>...</td>\n",
       "      <td>...</td>\n",
       "      <td>...</td>\n",
       "      <td>...</td>\n",
       "      <td>...</td>\n",
       "      <td>...</td>\n",
       "      <td>...</td>\n",
       "      <td>...</td>\n",
       "    </tr>\n",
       "    <tr>\n",
       "      <th>958</th>\n",
       "      <td>65.46</td>\n",
       "      <td>21980.82031</td>\n",
       "      <td>25250</td>\n",
       "      <td>2233.050049</td>\n",
       "      <td>30.08</td>\n",
       "      <td>201.100006</td>\n",
       "      <td>96.54</td>\n",
       "      <td>65.40</td>\n",
       "      <td>2831.439941</td>\n",
       "      <td>2705.19</td>\n",
       "      <td>12202.12988</td>\n",
       "      <td>67.59</td>\n",
       "      <td>210.85</td>\n",
       "    </tr>\n",
       "    <tr>\n",
       "      <th>959</th>\n",
       "      <td>65.91</td>\n",
       "      <td>22313.18945</td>\n",
       "      <td>25250</td>\n",
       "      <td>2244.610107</td>\n",
       "      <td>30.39</td>\n",
       "      <td>201.100006</td>\n",
       "      <td>95.98</td>\n",
       "      <td>65.40</td>\n",
       "      <td>2831.439941</td>\n",
       "      <td>2668.97</td>\n",
       "      <td>12202.12988</td>\n",
       "      <td>67.99</td>\n",
       "      <td>213.69</td>\n",
       "    </tr>\n",
       "  </tbody>\n",
       "</table>\n",
       "<p>960 rows × 13 columns</p>\n",
       "</div>"
      ],
      "text/plain": [
       "       oil       nikkei    ffa        korea   pick         iyt  usdollar  \\\n",
       "0    36.76  18818.58008   4150  1911.930054  16.52  132.320007     98.97   \n",
       "1    36.76  18818.58008   4150  1911.930054  16.52  132.320007     98.97   \n",
       "..     ...          ...    ...          ...    ...         ...       ...   \n",
       "958  65.46  21980.82031  25250  2233.050049  30.08  201.100006     96.54   \n",
       "959  65.91  22313.18945  25250  2244.610107  30.39  201.100006     95.98   \n",
       "\n",
       "      coal        sp500  shanghai      germany  ironore  steelstock  \n",
       "0    38.05  2038.199951   3296.26  10485.80957    41.95      206.66  \n",
       "1    38.05  2038.199951   3296.26  10485.80957    41.95      206.66  \n",
       "..     ...          ...       ...          ...      ...         ...  \n",
       "958  65.40  2831.439941   2705.19  12202.12988    67.59      210.85  \n",
       "959  65.40  2831.439941   2668.97  12202.12988    67.99      213.69  \n",
       "\n",
       "[960 rows x 13 columns]"
      ]
     },
     "execution_count": 4,
     "metadata": {},
     "output_type": "execute_result"
    }
   ],
   "source": [
    "x_df = pd.concat([df.drop(columns='date') for df in x_df], axis=1)\n",
    "x_df"
   ]
  },
  {
   "cell_type": "code",
   "execution_count": 5,
   "metadata": {},
   "outputs": [
    {
     "name": "stdout",
     "output_type": "stream",
     "text": [
      "[[   36.76    18818.58008  4150.      ... 10485.80957    41.95\n",
      "    206.66   ]\n",
      " [   36.76    18818.58008  4150.      ... 10485.80957    41.95\n",
      "    206.66   ]\n",
      " [   36.76    18818.58008  4150.      ... 10485.80957    41.95\n",
      "    206.66   ]\n",
      " ...\n",
      " [   65.01    22368.11914 25250.      ... 12400.26953    67.72\n",
      "    213.1    ]\n",
      " [   65.46    21980.82031 25250.      ... 12202.12988    67.59\n",
      "    210.85   ]\n",
      " [   65.91    22313.18945 25250.      ... 12202.12988    67.99\n",
      "    213.69   ]]\n",
      "[[472.]\n",
      " [472.]\n",
      " [472.]\n",
      " [472.]\n",
      " [462.]\n",
      " [467.]]\n",
      "(960, 13) (960, 1)\n"
     ]
    }
   ],
   "source": [
    "X = np.array(x_df)\n",
    "print(X)\n",
    "Y = np.array(y_df.drop(columns='date'), np.float).reshape(-1, 1)\n",
    "print(Y[:6])\n",
    "print(X.shape, Y.shape)"
   ]
  },
  {
   "cell_type": "code",
   "execution_count": 6,
   "metadata": {},
   "outputs": [
    {
     "name": "stdout",
     "output_type": "stream",
     "text": [
      "(861, 13) (861, 1)\n",
      "(99, 13) (99, 1)\n"
     ]
    }
   ],
   "source": [
    "x_train, x_test = X[:861], X[861:]\n",
    "y_train, y_test = Y[:861], Y[861:]\n",
    "print(x_train.shape, y_train.shape)\n",
    "print(x_test.shape, y_test.shape)"
   ]
  },
  {
   "cell_type": "code",
   "execution_count": 7,
   "metadata": {},
   "outputs": [
    {
     "name": "stdout",
     "output_type": "stream",
     "text": [
      "(861, 13) (861, 1)\n",
      "(99, 13) (99, 1)\n"
     ]
    }
   ],
   "source": [
    "with open(\"BalticDryIndexDataset.npy\", 'wb') as f:\n",
    "    pickle.dump(((x_train, y_train), (x_test, y_test)), f)\n",
    "with open(\"BalticDryIndexDataset.npy\", 'rb') as f:\n",
    "    (x_train, y_train), (x_test, y_test) = pickle.load(f)\n",
    "print(x_train.shape, y_train.shape)\n",
    "print(x_test.shape, y_test.shape)"
   ]
  },
  {
   "cell_type": "markdown",
   "metadata": {},
   "source": []
  }
 ],
 "metadata": {
  "kernelspec": {
   "display_name": "Python 3",
   "language": "python",
   "name": "python3"
  },
  "language_info": {
   "codemirror_mode": {
    "name": "ipython",
    "version": 3
   },
   "file_extension": ".py",
   "mimetype": "text/x-python",
   "name": "python",
   "nbconvert_exporter": "python",
   "pygments_lexer": "ipython3",
   "version": "3.6.6"
  }
 },
 "nbformat": 4,
 "nbformat_minor": 2
}
