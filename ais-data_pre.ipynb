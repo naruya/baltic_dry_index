{
 "cells": [
  {
   "cell_type": "code",
   "execution_count": 1,
   "metadata": {},
   "outputs": [],
   "source": [
    "import datetime\n",
    "from datetime import timedelta\n",
    "from collections import OrderedDict\n",
    "\n",
    "import pandas as pd\n",
    "import numpy as np\n",
    "from glob import glob\n",
    "from tqdm import tqdm\n",
    "import matplotlib.pyplot as plt\n",
    "from multiprocessing import Pool"
   ]
  },
  {
   "cell_type": "code",
   "execution_count": 54,
   "metadata": {},
   "outputs": [
    {
     "name": "stdout",
     "output_type": "stream",
     "text": [
      "(180, 360)\n"
     ]
    },
    {
     "data": {
      "text/plain": [
       "<matplotlib.image.AxesImage at 0x7f526a399240>"
      ]
     },
     "execution_count": 54,
     "metadata": {},
     "output_type": "execute_result"
    },
    {
     "data": {
      "image/png": "[encoded data removed]",
      "text/plain": [
       "<Figure size 1440x1440 with 1 Axes>"
      ]
     },
     "metadata": {},
     "output_type": "display_data"
    }
   ],
   "source": [
    "import cv2\n",
    "a = cv2.imread(\"/home/nama/Desktop/worldmap.png\")\n",
    "a = cv2.resize(a, (360,180))\n",
    "a = cv2.cvtColor(a, cv2.COLOR_BGR2HSV)\n",
    "a = np.where(a[:,:,0]>90, 0, 1)\n",
    "print(a.shape)\n",
    "plt.figure(figsize=(20,20)); plt.imshow(a)"
   ]
  },
  {
   "cell_type": "code",
   "execution_count": 2,
   "metadata": {},
   "outputs": [],
   "source": [
    "files = glob(\"data/AIS/*\")\n",
    "files = sorted([file for file in files if not '~' in file])"
   ]
  },
  {
   "cell_type": "code",
   "execution_count": 3,
   "metadata": {
    "scrolled": true
   },
   "outputs": [],
   "source": [
    "def preformat(df):\n",
    "    df[\"T\"] = df[\"DateTime\"].map(\n",
    "        lambda x: x.split(' ')[0] if not x == '-' else x)\n",
    "    return df"
   ]
  },
  {
   "cell_type": "code",
   "execution_count": 4,
   "metadata": {
    "scrolled": true
   },
   "outputs": [],
   "source": [
    "# 列にもともと'-'が混ざっていると、dtypeが'object'に固定される?のであとから。\n",
    "def preformat_mini(df):\n",
    "    df['Cos'] = df[\"Course over ground\"].map(\n",
    "        lambda x: float(np.cos(float(x)/180.*np.pi)) if not x == '-' else x)\n",
    "    df['Sin'] = df[\"Course over ground\"].map(\n",
    "        lambda x: float(np.sin(float(x)/180.*np.pi)) if not x == '-' else x)\n",
    "    df[\"Y\"] = df[\"Lat\"].map(\n",
    "        lambda x: x+90 if not x == '-' else x)\n",
    "    df[\"X\"] = df[\"Lng\"].map(\n",
    "        lambda x: x+180 if not x == '-' else x)\n",
    "    df[\"Speed\"] = df[\"Speed over ground\"].map(\n",
    "        lambda x: float(x)/20. if not x == '-' else x)\n",
    "    df[\"DWT\"] = df[\"DWT\"].map(\n",
    "        lambda x: float(x)/300000. if not x == '-' else x)\n",
    "    df = df[['T', 'X', 'Y', 'Cos', 'Sin', 'Speed', 'DWT']]\n",
    "    return df"
   ]
  },
  {
   "cell_type": "code",
   "execution_count": 5,
   "metadata": {},
   "outputs": [],
   "source": [
    "start_date = datetime.datetime(2016,1,1)\n",
    "day_count = 960\n",
    "days = []\n",
    "for single_date in (start_date + timedelta(n) for n in range(day_count)):\n",
    "    days.append(\n",
    "        str(single_date.year)\n",
    "        +\"/\"+\"{:02}\".format(single_date.month)\n",
    "        +\"/\"+\"{:02}\".format(single_date.day))\n",
    "date = OrderedDict(zip(days, [None]*day_count))"
   ]
  },
  {
   "cell_type": "code",
   "execution_count": 6,
   "metadata": {},
   "outputs": [],
   "source": [
    "def f(file):\n",
    "    df = pd.read_csv(file, low_memory=False) # str'-'とfloatが混在している問題\n",
    "    df = preformat(df)\n",
    "    \n",
    "    if len(df) == 0:\n",
    "        print(\"error1\", file)\n",
    "        return\n",
    "    \n",
    "    data = {}\n",
    "    key = None\n",
    "    \n",
    "    for t in list(date.keys()):\n",
    "        temp = np.where(np.array(list(df['T'])) == t)[0].tolist()\n",
    "        \n",
    "        if not temp == []:\n",
    "            _df = df[temp[0]:temp[-1]+1].copy()\n",
    "            _df = preformat_mini(_df)\n",
    "            mean = _df.mean() # 'T' は消える\n",
    "            \n",
    "            if _df['X'].max() - _df['X'].min() > 180:\n",
    "                _df[\"X\"] = _df[\"X\"].map(\n",
    "                    lambda x: (lambda x: x+360 if x<180 else x)(x) if not x == '-' else x)\n",
    "                _X = _df['X'].mean()\n",
    "                if _X > 360:\n",
    "                    _X -= 360\n",
    "                mean['X'] = _X\n",
    "            \n",
    "            data[t] = mean\n",
    "            \n",
    "    if len(data) == 0:\n",
    "        print(\"error2\", file)\n",
    "        return\n",
    "    \n",
    "    pd.DataFrame.from_dict(data).T.to_csv(\n",
    "        \"data/AIS_clean/\"+file.split('/')[-1])"
   ]
  },
  {
   "cell_type": "code",
   "execution_count": 7,
   "metadata": {
    "scrolled": true
   },
   "outputs": [
    {
     "name": "stderr",
     "output_type": "stream",
     "text": [
      "  5%|▌         | 48/934 [03:12<44:45,  3.03s/it]  "
     ]
    },
    {
     "name": "stdout",
     "output_type": "stream",
     "text": [
      "error2 data/AIS/fix_ais_bulk_9064889.csv\n"
     ]
    },
    {
     "name": "stderr",
     "output_type": "stream",
     "text": [
      " 85%|████████▍ | 793/934 [59:27<11:25,  4.87s/it]  "
     ]
    },
    {
     "name": "stdout",
     "output_type": "stream",
     "text": [
      "error1 data/AIS/fix_ais_bulk_9724843.csv\n",
      "error1 data/AIS/fix_ais_bulk_9724855.csv\n"
     ]
    },
    {
     "name": "stderr",
     "output_type": "stream",
     "text": [
      " 98%|█████████▊| 919/934 [1:06:09<00:28,  1.91s/it]"
     ]
    },
    {
     "name": "stdout",
     "output_type": "stream",
     "text": [
      "error2 data/AIS/fix_ais_bulk_9806897.csv\n"
     ]
    },
    {
     "name": "stderr",
     "output_type": "stream",
     "text": [
      "100%|██████████| 934/934 [1:06:13<00:00,  3.51it/s]\n"
     ]
    }
   ],
   "source": [
    "pool = Pool(processes=8)\n",
    "\n",
    "with tqdm(total=len(files)) as t:\n",
    "    for _ in pool.imap_unordered(f, files):\n",
    "        t.update(1)"
   ]
  }
 ],
 "metadata": {
  "kernelspec": {
   "display_name": "Python 3",
   "language": "python",
   "name": "python3"
  },
  "language_info": {
   "codemirror_mode": {
    "name": "ipython",
    "version": 3
   },
   "file_extension": ".py",
   "mimetype": "text/x-python",
   "name": "python",
   "nbconvert_exporter": "python",
   "pygments_lexer": "ipython3",
   "version": "3.6.6"
  }
 },
 "nbformat": 4,
 "nbformat_minor": 2
}
