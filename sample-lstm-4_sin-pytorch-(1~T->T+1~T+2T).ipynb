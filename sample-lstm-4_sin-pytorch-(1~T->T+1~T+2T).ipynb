{
 "cells": [
  {
   "cell_type": "markdown",
   "metadata": {},
   "source": [
    "- https://qiita.com/sasayabaku/items/b7872a3b8acc7d6261bf"
   ]
  },
  {
   "cell_type": "markdown",
   "metadata": {},
   "source": [
    "# 後ろ長フレームの予測誤差を取れるようにする"
   ]
  },
  {
   "cell_type": "code",
   "execution_count": 2,
   "metadata": {},
   "outputs": [
    {
     "name": "stdout",
     "output_type": "stream",
     "text": [
      "(201,)\n"
     ]
    },
    {
     "data": {
      "image/png": "[encoded data removed]",
      "text/plain": [
       "<Figure size 432x144 with 1 Axes>"
      ]
     },
     "metadata": {},
     "output_type": "display_data"
    }
   ],
   "source": [
    "import numpy as np\n",
    "import matplotlib.pyplot as plt\n",
    "\n",
    "def sin(x, T=100):\n",
    "    return np.sin(2.0 * np.pi * x / T)\n",
    "\n",
    "# sin波にノイズを付与する\n",
    "def toy_problem(T=100, ampl=0.05):\n",
    "    x = np.arange(0, 2 * T + 1)\n",
    "    noise = ampl * np.random.uniform(low=-1.0, high=1.0, size=len(x))\n",
    "    return sin(x) + noise\n",
    "\n",
    "f = toy_problem()\n",
    "print(f.shape)\n",
    "plt.figure(figsize=(6,2));plt.plot(f);plt.show()"
   ]
  },
  {
   "cell_type": "code",
   "execution_count": 3,
   "metadata": {},
   "outputs": [
    {
     "name": "stdout",
     "output_type": "stream",
     "text": [
      "(151, 25, 1) (151, 25)\n"
     ]
    }
   ],
   "source": [
    "def make_dataset(low_data, n_prev=100):\n",
    "\n",
    "    data, target = [], []\n",
    "    maxlen = 25\n",
    "\n",
    "    for i in range(len(low_data)-maxlen-maxlen):\n",
    "        data.append(low_data[i:i + maxlen]) # x (25フレーム切り取ってくる)\n",
    "        target.append(low_data[i+1+maxlen:i +1+maxlen+maxlen]) # y (xの1~25フレーム先)\n",
    "\n",
    "    re_data = np.array(data).reshape(len(data), maxlen, 1)\n",
    "    re_target = np.array(target).reshape(len(data), maxlen)\n",
    "\n",
    "    return re_data, re_target\n",
    "\n",
    "\n",
    "#g -> 学習データ，h -> 学習ラベル\n",
    "g, h = make_dataset(f)\n",
    "print(g.shape, h.shape)"
   ]
  },
  {
   "cell_type": "code",
   "execution_count": 4,
   "metadata": {},
   "outputs": [],
   "source": [
    "import torch\n",
    "import torch.nn as nn\n",
    "import torch.nn.functional as F\n",
    "from torch.optim import Adam\n",
    "from torch.utils.data import Dataset, DataLoader\n",
    "\n",
    "# TODO: LSTMCell使う\n",
    "class Model(nn.Module):\n",
    "    def __init__(self, input_size=1, hidden_size=8, output_size=1):\n",
    "        self.hidden_size = hidden_size\n",
    "        super(Model, self).__init__()\n",
    "        self.lstm = nn.LSTMCell(input_size=input_size,\n",
    "                            hidden_size=hidden_size)\n",
    "        self.fc = nn.Linear(hidden_size, output_size)\n",
    "    def forward(self, input): # i_0:10x1\n",
    "        h_n = torch.randn(len(input), self.hidden_size)\n",
    "        c_n = torch.randn(len(input), self.hidden_size)\n",
    "        output = []\n",
    "        for k in range(25):\n",
    "            i_n = input[:,k,:]\n",
    "            h_n, c_n = self.lstm(i_n, (h_n, c_n)) # 10x1, 10x8, 10x8\n",
    "            o_n = self.fc(h_n) # 10x8 -> 10x1\n",
    "            output.append(o_n)\n",
    "        for k in range(25,50):\n",
    "            i_n = output[k-25]\n",
    "            h_n, c_n = self.lstm(i_n, (h_n, c_n)) # 10x1, 10x8, 10x8\n",
    "            o_n = self.fc(h_n) # 10x8 -> 10x1\n",
    "            output.append(o_n)\n",
    "        return torch.cat(output[25:], dim=1)"
   ]
  },
  {
   "cell_type": "code",
   "execution_count": 5,
   "metadata": {},
   "outputs": [],
   "source": [
    "class SinDataset(Dataset):\n",
    "    def __init__(self):\n",
    "        X, Y = make_dataset(f)\n",
    "        self.X = np.array(X, np.float32)\n",
    "        self.Y = np.array(Y, np.float32)\n",
    "    def __len__(self):\n",
    "        return len(self.X)\n",
    "    def __getitem__(self, idx):\n",
    "        return self.X[idx], self.Y[idx]"
   ]
  },
  {
   "cell_type": "code",
   "execution_count": 6,
   "metadata": {},
   "outputs": [],
   "source": [
    "# model = Model(1, 8, 1)\n",
    "# data_loader = DataLoader(SinDataset(), batch_size=10, shuffle=True)\n",
    "# x,_ = iter(data_loader).next()\n",
    "# print(x.shape)\n",
    "# output, hidden, cell = model(x)\n",
    "# output.shape, hidden.shape, cell.shape"
   ]
  },
  {
   "cell_type": "code",
   "execution_count": 7,
   "metadata": {
    "scrolled": true
   },
   "outputs": [
    {
     "name": "stdout",
     "output_type": "stream",
     "text": [
      "torch.Size([10, 25, 1])\n",
      "torch.Size([10, 25])\n"
     ]
    }
   ],
   "source": [
    "model = Model(1, 8, 1)\n",
    "data_loader = DataLoader(SinDataset(), batch_size=10, shuffle=True)\n",
    "x,_ = iter(data_loader).next()\n",
    "print(x.shape)\n",
    "output = model(x)\n",
    "print(output.shape)"
   ]
  },
  {
   "cell_type": "code",
   "execution_count": 8,
   "metadata": {
    "scrolled": true
   },
   "outputs": [
    {
     "name": "stderr",
     "output_type": "stream",
     "text": [
      "Train: 0it [00:00, ?it/s]\n"
     ]
    }
   ],
   "source": [
    "model = Model(1, 8, 1)\n",
    "\n",
    "loss_fn = F.mse_loss\n",
    "optim = Adam(model.parameters())\n",
    "\n",
    "data_loader = DataLoader(SinDataset(), batch_size=10, shuffle=True)\n",
    "\n",
    "from tqdm import tqdm\n",
    "from collections import OrderedDict\n",
    "\n",
    "with tqdm(range(0), desc=\"Train\", ncols=10) as _tqdm:\n",
    "    for epoch in _tqdm:\n",
    "        \n",
    "        train_loss = 0.\n",
    "        train_acc = 0.\n",
    "        \n",
    "        for x_batch, y_batch in data_loader:\n",
    "            optim.zero_grad()\n",
    "            output = model(x_batch)\n",
    "\n",
    "            loss = loss_fn(output, y_batch)\n",
    "            loss.backward()\n",
    "            optim.step()\n",
    "\n",
    "            train_loss += loss.item()\n",
    "            train_acc += np.sum(np.abs((output.data - y_batch.data).numpy()) < 0.1)\n",
    "        \n",
    "        _tqdm.set_postfix(OrderedDict(\n",
    "            ep=epoch+1, \n",
    "            loss=\"{:.2f}\".format(train_loss), \n",
    "            acc=\"{:.2f}\".format(train_acc)))"
   ]
  },
  {
   "cell_type": "code",
   "execution_count": 9,
   "metadata": {},
   "outputs": [],
   "source": [
    "# torch.save(model.state_dict(), \"model/sample_lstm-4.pt\")\n",
    "model.load_state_dict(torch.load(\"model/sample_lstm-4.pt\"))"
   ]
  },
  {
   "cell_type": "code",
   "execution_count": 10,
   "metadata": {},
   "outputs": [
    {
     "name": "stdout",
     "output_type": "stream",
     "text": [
      "(151, 25, 1) (151, 25)\n"
     ]
    }
   ],
   "source": [
    "# 予測\n",
    "g, h = make_dataset(f)\n",
    "pred = model(torch.from_numpy(np.array(g, np.float32))) # (151, 25, 1) -> (151, 25) # t+1のデータを予測したものが176個。\n",
    "pred = pred.detach().numpy()\n",
    "print(g.shape, pred.shape)"
   ]
  },
  {
   "cell_type": "markdown",
   "metadata": {},
   "source": [
    "### Ctrl+Enter below many times!"
   ]
  },
  {
   "cell_type": "code",
   "execution_count": 11,
   "metadata": {
    "scrolled": true
   },
   "outputs": [
    {
     "data": {
      "image/png": "[encoded data removed]",
      "text/plain": [
       "<Figure size 432x288 with 1 Axes>"
      ]
     },
     "metadata": {},
     "output_type": "display_data"
    }
   ],
   "source": [
    "k = np.random.randint(len(g))\n",
    "plt.plot(range(0, 25), g[k,:,0], label=\"x_train\")\n",
    "plt.plot(range(26, 51), h[k], label=\"y_train\")\n",
    "plt.plot(range(26, 51), pred[k], label=\"y_pred\")\n",
    "plt.legend()\n",
    "plt.show()"
   ]
  },
  {
   "cell_type": "code",
   "execution_count": null,
   "metadata": {},
   "outputs": [],
   "source": []
  }
 ],
 "metadata": {
  "kernelspec": {
   "display_name": "Python 3",
   "language": "python",
   "name": "python3"
  },
  "language_info": {
   "codemirror_mode": {
    "name": "ipython",
    "version": 3
   },
   "file_extension": ".py",
   "mimetype": "text/x-python",
   "name": "python",
   "nbconvert_exporter": "python",
   "pygments_lexer": "ipython3",
   "version": "3.6.6"
  }
 },
 "nbformat": 4,
 "nbformat_minor": 2
}
